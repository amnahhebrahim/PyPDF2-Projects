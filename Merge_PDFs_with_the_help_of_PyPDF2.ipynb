{
  "cells": [
    {
      "cell_type": "markdown",
      "source": [
        "\n",
        "\n",
        "# Merge PDFs with the help of PyPDF2\n",
        "\n",
        "\n"
      ],
      "metadata": {
        "id": "Jh-__aCy_Cjc"
      }
    },
    {
      "cell_type": "markdown",
      "source": [
        "First thing's first, mount Google's drive  onto the notebook."
      ],
      "metadata": {
        "id": "S_5EjRPE_PJU"
      }
    },
    {
      "cell_type": "code",
      "execution_count": 3,
      "metadata": {
        "colab": {
          "base_uri": "https://localhost:8080/"
        },
        "id": "Gr4o_00m3kC7",
        "outputId": "4677c550-fb37-429b-8de5-8e889709ea6c"
      },
      "outputs": [
        {
          "output_type": "stream",
          "name": "stdout",
          "text": [
            "Mounted at /content/gdrive\n"
          ]
        }
      ],
      "source": [
        "from google.colab import drive\n",
        "\n",
        "# mounting drive\n",
        "drive.mount('/content/gdrive')"
      ]
    },
    {
      "cell_type": "markdown",
      "source": [
        "### Install PyPDF2:"
      ],
      "metadata": {
        "id": "YVtEXfEj_aps"
      }
    },
    {
      "cell_type": "code",
      "execution_count": 4,
      "metadata": {
        "colab": {
          "base_uri": "https://localhost:8080/"
        },
        "id": "xZfRmzj35fob",
        "outputId": "81b506d6-75b1-4f01-b780-6c6f866c2f54"
      },
      "outputs": [
        {
          "output_type": "stream",
          "name": "stdout",
          "text": [
            "Collecting pyPDF2\n",
            "  Downloading pypdf2-3.0.1-py3-none-any.whl (232 kB)\n",
            "\u001b[?25l     \u001b[90m━━━━━━━━━━━━━━━━━━━━━━━━━━━━━━━━━━━━━━━━\u001b[0m \u001b[32m0.0/232.6 kB\u001b[0m \u001b[31m?\u001b[0m eta \u001b[36m-:--:--\u001b[0m\r\u001b[2K     \u001b[91m━━━━━━━━━━━━━━━\u001b[0m\u001b[91m╸\u001b[0m\u001b[90m━━━━━━━━━━━━━━━━━━━━━━━━\u001b[0m \u001b[32m92.2/232.6 kB\u001b[0m \u001b[31m2.6 MB/s\u001b[0m eta \u001b[36m0:00:01\u001b[0m\r\u001b[2K     \u001b[90m━━━━━━━━━━━━━━━━━━━━━━━━━━━━━━━━━━━━━━━━\u001b[0m \u001b[32m232.6/232.6 kB\u001b[0m \u001b[31m4.3 MB/s\u001b[0m eta \u001b[36m0:00:00\u001b[0m\n",
            "\u001b[?25hInstalling collected packages: pyPDF2\n",
            "Successfully installed pyPDF2-3.0.1\n"
          ]
        }
      ],
      "source": [
        "!pip install pyPDF2"
      ]
    },
    {
      "cell_type": "markdown",
      "source": [
        "## Simple Use-Case (Merge into a Single PDF)"
      ],
      "metadata": {
        "id": "G5Gmuvul_7I0"
      }
    },
    {
      "cell_type": "code",
      "source": [
        "from PyPDF2 import PdfWriter\n",
        "\n",
        "merger = PdfWriter()\n",
        "\n",
        "for pdf in [\"/content/File1.pdf\", \"/content/File2.pdf\", \"/content/File3.pdf\"]:\n",
        "    merger.append(pdf)\n",
        "\n",
        "merger.write(\"merged-pdf.pdf\")\n",
        "merger.close()"
      ],
      "metadata": {
        "id": "dxkbnsg8AR2I"
      },
      "execution_count": 5,
      "outputs": []
    },
    {
      "cell_type": "markdown",
      "source": [
        "## Advanced Use-Case (Batch Merge PDFs)"
      ],
      "metadata": {
        "id": "YED0dfH5Ackf"
      }
    },
    {
      "cell_type": "markdown",
      "source": [
        "1. First obtain list of documents in PDF format to be merged with a certain document, either through:\n",
        "\n",
        "\n",
        "*   Manually entering them\n",
        "*   Linux command\n",
        "\n"
      ],
      "metadata": {
        "id": "Q39zXb0uAlUM"
      }
    },
    {
      "cell_type": "markdown",
      "source": [
        "Manually entering the documents to be merged with PDF document (cover page)"
      ],
      "metadata": {
        "id": "CCWW3MChA2AI"
      }
    },
    {
      "cell_type": "code",
      "source": [
        "import os\n",
        "folder_names=[\"File1.pdf\", \"File2.pdf\", \"File3.pdf\"]"
      ],
      "metadata": {
        "id": "Xkg-kDbqA_Mo"
      },
      "execution_count": 6,
      "outputs": []
    },
    {
      "cell_type": "markdown",
      "source": [
        "Automate through Linux:"
      ],
      "metadata": {
        "id": "LCJqKNhfBKHh"
      }
    },
    {
      "cell_type": "code",
      "source": [
        "import os\n",
        "path='/content/PDFs'\n",
        "folder_names=os.listdir(path)\n",
        "print(folder_names)"
      ],
      "metadata": {
        "colab": {
          "base_uri": "https://localhost:8080/"
        },
        "id": "xkwuAMLCBJvU",
        "outputId": "e8bdb676-ba33-4788-9cfb-1e8c88a16184"
      },
      "execution_count": 7,
      "outputs": [
        {
          "output_type": "stream",
          "name": "stdout",
          "text": [
            "['File5.pdf', 'File1.pdf', 'File3.pdf', 'File4.pdf', 'File2.pdf']\n"
          ]
        }
      ]
    },
    {
      "cell_type": "markdown",
      "source": [
        "Define file directories:"
      ],
      "metadata": {
        "id": "96XsJX0KBopB"
      }
    },
    {
      "cell_type": "code",
      "execution_count": 15,
      "metadata": {
        "colab": {
          "base_uri": "https://localhost:8080/"
        },
        "id": "H7nczXug4htQ",
        "outputId": "20f6f07a-c711-4497-9e3e-580edf42fa22"
      },
      "outputs": [
        {
          "output_type": "stream",
          "name": "stdout",
          "text": [
            "File5.pdf\n",
            "File5.pdf merged\n",
            "File1.pdf\n",
            "File1.pdf merged\n",
            "File3.pdf\n",
            "File3.pdf merged\n",
            "File4.pdf\n",
            "File4.pdf merged\n",
            "File2.pdf\n",
            "File2.pdf merged\n"
          ]
        }
      ],
      "source": [
        "import re\n",
        "from PyPDF2 import PdfWriter, PdfMerger\n",
        "base_directory = path #path of folder that contains pdfs to be merged\n",
        "cover='/content/COVERPAGE.pdf' #cover page we would like to merge all pdfs with\n",
        "result_directory = \"/content/merged_correct\"\n",
        "os.mkdir(result_directory)\n",
        "\n",
        "\n",
        "# Iterate over the folder names\n",
        "for filename in folder_names:\n",
        "    print(str(filename))\n",
        "\n",
        "    os.chdir(base_directory)\n",
        "\n",
        "    merger=PdfMerger()\n",
        "    merger.append(cover)\n",
        "    merger.append(filename)\n",
        "    os.chdir(result_directory)\n",
        "    print(str(filename)+\" merged\")\n",
        "    merger.write(filename)\n",
        "    merger.close()\n"
      ]
    },
    {
      "cell_type": "code",
      "execution_count": null,
      "metadata": {
        "id": "RhTWVjpj5Omg"
      },
      "outputs": [],
      "source": [
        "import zipfile\n",
        "\n",
        "# Specify the path to the zip file\n",
        "name='Batch.zip'\n",
        "zip_file_path = '/content/'+name\n",
        "\n",
        "\n",
        "# Extract the contents of the zip file\n",
        "with zipfile.ZipFile(zip_file_path, 'r') as zip_ref:\n",
        "    zip_ref.extractall(result_directory)"
      ]
    }
  ],
  "metadata": {
    "colab": {
      "provenance": []
    },
    "kernelspec": {
      "display_name": "Python 3",
      "name": "python3"
    },
    "language_info": {
      "name": "python"
    }
  },
  "nbformat": 4,
  "nbformat_minor": 0
}